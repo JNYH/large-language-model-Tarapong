{
  "nbformat": 4,
  "nbformat_minor": 0,
  "metadata": {
    "colab": {
      "provenance": [],
      "authorship_tag": "ABX9TyNKEa9N71ti2jv83ipD2h7n",
      "include_colab_link": true
    },
    "kernelspec": {
      "name": "python3",
      "display_name": "Python 3"
    },
    "language_info": {
      "name": "python"
    }
  },
  "cells": [
    {
      "cell_type": "markdown",
      "metadata": {
        "id": "view-in-github",
        "colab_type": "text"
      },
      "source": [
        "<a href=\"https://colab.research.google.com/github/sreent/large-language-model/blob/main/0%20Google%20Colab%20Platform.ipynb\" target=\"_parent\"><img src=\"https://colab.research.google.com/assets/colab-badge.svg\" alt=\"Open In Colab\"/></a>"
      ]
    },
    {
      "cell_type": "markdown",
      "source": [
        "# Colab Platform\n",
        "\n",
        "Demonstrate basic functionality and identify terms related to working in the Databricks workspace.\n",
        "\n",
        "##### Objectives\n",
        "1. Create a new cell\n",
        "2. Execute code in multiple languages\n",
        "3. Create markdown cells\n",
        "4. Visualize data\n",
        "5. Install libraries\n",
        "\n",
        "##### Notebook Utilities\n",
        "Example <a href=\"https://docs.databricks.com/notebooks/notebooks-use.html#language-magic\" target=\"_blank\">magic commands</a>: **`%python`**, **`%sql`**, **`%md`**, **`%fs`**, **`%sh`**, **`%pip`**\n"
      ],
      "metadata": {
        "id": "fxIUeVZgteDy"
      }
    },
    {
      "cell_type": "markdown",
      "source": [
        "### Setup\n",
        "Run classroom setup to copy Databricks training datasets into your environment.\n",
        "\n",
        "Use the **`%run`** magic command to run another notebook within a notebook\n",
        "\n",
        "To run the notebook cell below click on the cell containing the `%run` command, this selects the cell, and then push `Shift + Enter` on your keyboard. Cells can also be run by clicking the arrow in the top right corner of the cell (the arrow will appear when hovering your mouse over the cell).\n"
      ],
      "metadata": {
        "id": "wh3-eHcktvAl"
      }
    },
    {
      "cell_type": "markdown",
      "source": [
        "### Create a new Cell\n",
        "\n",
        "Notebook cells can be created by clicking the \"`+`\" button that appears when you hover your mouse between two cells, or by using keyboard shortcuts. To use the keyboard shortcuts select any cell and press `A` to insert a cell above the selected cell, or `B` to insert a cell below the selected cell.\n"
      ],
      "metadata": {
        "id": "Jgwgcv8Rt0Br"
      }
    },
    {
      "cell_type": "code",
      "source": [
        "# Try creating a cell below me! Click on my cell (not in the text area itself) and then press `B`.\n"
      ],
      "metadata": {
        "id": "qKczjO0Xt3wR"
      },
      "execution_count": null,
      "outputs": []
    },
    {
      "cell_type": "markdown",
      "source": [
        "### Execute code in multiple languages\n",
        "\n",
        "Colab notebooks support 4 different languages : <a href=\"https://www.python.org/\" target=\"_blank\">Python</a>, <a href=\"https://www.scala-lang.org/\" target=\"_blank\">Scala</a>, <a href=\"https://en.wikipedia.org/wiki/SQL\" target=\"_blank\">SQL</a>, and <a href=\"https://www.r-project.org/\" target=\"_blank\">R</a>. Upon creation of a notebook you'll set a default language for the cells in the notebook to use. The default language of the notebook is displayed in the upper left of your window, to the right of the notebook name.\n",
        "\n",
        "* Each notebook specifies a default language, in this case **Python**.\n",
        "* Run the cell below using one of the following options:\n",
        "  * **CTRL+ENTER** or **CMD+RETURN**\n",
        "  * **SHIFT+ENTER** or **SHIFT+RETURN** to run the cell and move to the next one\n",
        "  * Using **Run Cell**, **Run All Above** or **Run All Below** as seen here<br/><img style=\"box-shadow: 5px 5px 5px 0px rgba(0,0,0,0.25); border: 1px solid rgba(0,0,0,0.25);\" src=\"https://files.training.databricks.com/images/notebook-cell-run-cmd.png\"/>\n",
        "\n",
        "The below cell shows an example of a python command executing.\n"
      ],
      "metadata": {
        "id": "XP93ep2ot75O"
      }
    },
    {
      "cell_type": "code",
      "source": [
        "print(\"Run default language\")"
      ],
      "metadata": {
        "id": "G6LDLmO8t_Xx"
      },
      "execution_count": null,
      "outputs": []
    },
    {
      "cell_type": "markdown",
      "source": [
        "But you can also use non-default languages in your notebooks as well! Try running languages specified by their language magic commands: **`%python`**, **`%scala`**, **`%sql`**, **`%r`**.\n",
        "\n",
        "Below are examples of using magic commands to execute code in **python** and **sql**:\n"
      ],
      "metadata": {
        "id": "M-1PDchbuDe2"
      }
    },
    {
      "cell_type": "code",
      "source": [
        "%%python\n",
        "print(\"Run python\")"
      ],
      "metadata": {
        "id": "Hnnbgqg3zI9o"
      },
      "execution_count": null,
      "outputs": []
    },
    {
      "cell_type": "code",
      "source": [
        "%%sql\n",
        "SELECT \"Run SQL\""
      ],
      "metadata": {
        "id": "1_scNDhYzJU9"
      },
      "execution_count": null,
      "outputs": []
    },
    {
      "cell_type": "markdown",
      "source": [
        "## Create documentation cells\n",
        "Render cell as <a href=\"https://www.markdownguide.org/cheat-sheet/\" target=\"_blank\">Markdown</a> using the magic command: **`%md`**\n",
        "\n",
        "Below are some examples of how you can use Markdown to format documentation. Click this cell and press **`Enter`** to view the underlying Markdown syntax.\n",
        "\n",
        "# Heading 1\n",
        "### Heading 3\n",
        "> block quote\n",
        "\n",
        "1. **bold**\n",
        "2. *italicized*\n",
        "3. ~~strikethrough~~\n",
        "\n",
        "---\n",
        "\n",
        "- <a href=\"https://www.markdownguide.org/cheat-sheet/\" target=\"_blank\">link</a>\n",
        "- `code`\n",
        "\n",
        "```\n",
        "{\n",
        "  \"message\": \"This is a code block\",\n",
        "  \"method\": \"https://www.markdownguide.org/extended-syntax/#fenced-code-blocks\",\n",
        "  \"alternative\": \"https://www.markdownguide.org/basic-syntax/#code-blocks\"\n",
        "}\n",
        "```\n",
        "\n",
        "![Spark Logo](https://files.training.databricks.com/images/Apache-Spark-Logo_TM_200px.png)\n",
        "\n",
        "| Element         | Markdown Syntax |\n",
        "|-----------------|-----------------|\n",
        "| Heading         | `#H1` `##H2` `###H3` `#### H4` `##### H5` `###### H6` |\n",
        "| Block quote     | `> blockquote` |\n",
        "| Bold            | `**bold**` |\n",
        "| Italic          | `*italicized*` |\n",
        "| Strikethrough   | `~~strikethrough~~` |\n",
        "| Horizontal Rule | `---` |\n",
        "| Code            | ``` `code` ``` |\n",
        "| Link            | `[text](https://www.example.com)` |\n",
        "| Image           | `![alt text](image.jpg)`|\n",
        "| Ordered List    | `1. First items` <br> `2. Second Item` <br> `3. Third Item` |\n",
        "| Unordered List  | `- First items` <br> `- Second Item` <br> `- Third Item` |\n",
        "| Code Block      | ```` ``` ```` <br> `code block` <br> ```` ``` ````|\n",
        "| Table           |<code> &#124; col &#124; col &#124; col &#124; </code> <br> <code> &#124;---&#124;---&#124;---&#124; </code> <br> <code> &#124; val &#124; val &#124; val &#124; </code> <br> <code> &#124; val &#124; val &#124; val &#124; </code> <br>|\n"
      ],
      "metadata": {
        "id": "CUAKoiSyuNYB"
      }
    },
    {
      "cell_type": "markdown",
      "source": [
        "## Reading data\n",
        "\n",
        "When you ran the **Setup** cell at the top of the notebook, some variables were created for you. One of the variables is `DA.paths.datasets` which is the path to datasets which will be used during this course.\n",
        "\n",
        "One such dataset is located at **https://www.kaggle.com/datasets/kotartemiy/topic-labeled-news-dataset`**. Let's use `pandas` to read that csv file.\n"
      ],
      "metadata": {
        "id": "BObnWhkOuTJC"
      }
    },
    {
      "cell_type": "code",
      "source": [
        "import pandas as pd\n",
        "\n",
        "# Specify the location of the csv file\n",
        "DATA_PATH = # Your Own Data Path\n",
        "csv_location = f\"{DATA_PATH}/labelled_newscatcher_dataset.csv\"\n",
        "# Read the dataset\n",
        "newscatcher = pd.read_csv(csv_location, sep=\";\")\n",
        "# Display the datset\n",
        "newscatcher"
      ],
      "metadata": {
        "id": "eNgXJ-xBuV15"
      },
      "execution_count": null,
      "outputs": []
    },
    {
      "cell_type": "markdown",
      "source": [
        "We can now use `matplotlib` to plot aggregate data from our dataset.\n"
      ],
      "metadata": {
        "id": "6aZ0R28TubVO"
      }
    },
    {
      "cell_type": "code",
      "source": [
        "import matplotlib.pyplot as plt\n",
        "\n",
        "# Count how many articles exist per topic\n",
        "newscatcher_counts_by_topic = (\n",
        "    newscatcher\n",
        "    .loc[:,[\"topic\",\"title\"]]\n",
        "    .groupby(\"topic\")\n",
        "    .agg(\"count\")\n",
        "    .reset_index(drop=False)\n",
        ")\n",
        "\n",
        "# Create a bar plot\n",
        "plt.bar(newscatcher_counts_by_topic[\"topic\"],height=newscatcher_counts_by_topic[\"title\"])\n",
        "plt.xticks(rotation=45)\n",
        "plt.show()"
      ],
      "metadata": {
        "id": "1VScvc1gudeG"
      },
      "execution_count": null,
      "outputs": []
    },
    {
      "cell_type": "markdown",
      "source": [
        "The `display()` command will pretty-print a large variety of data types, including Apache Spark DataFrames or Pandas DataFrames.\n",
        "\n",
        "It will also allow you to make visualizations without writing additional code. For example, after executing the below command click the `+` icon in the results to add a Visualization. Select the **Bar** visualization type and click \"Save\".\n"
      ],
      "metadata": {
        "id": "-V94_MAmuhs6"
      }
    },
    {
      "cell_type": "code",
      "source": [
        "display(newscatcher_counts_by_topic)"
      ],
      "metadata": {
        "id": "wsJlcEZ6ukMw"
      },
      "execution_count": null,
      "outputs": []
    },
    {
      "cell_type": "markdown",
      "source": [
        "Colab Runtime environments come with many pre-installed libraries, but sometimes you'll want to install some additional ones.\n",
        "\n",
        "Additional libraries can be installed with a scope specific to your individual notebook using the `%pip` magic command.\n",
        "\n",
        "Because sometimes you'll need to restart your python kernel after installing a new library via `%pip` it's considered best practice to put all `%pip` commands at the very top of your notebook.\n"
      ],
      "metadata": {
        "id": "NDbdTd_tumiS"
      }
    },
    {
      "cell_type": "code",
      "source": [
        "%pip install nlptest==1.1.0"
      ],
      "metadata": {
        "id": "nRNH30FsxsTF"
      },
      "execution_count": null,
      "outputs": []
    },
    {
      "cell_type": "markdown",
      "source": [
        "Now we can import the newly installed `nlptest` package."
      ],
      "metadata": {
        "id": "MFKGwd_XusMw"
      }
    },
    {
      "cell_type": "code",
      "source": [
        "import nlptest"
      ],
      "metadata": {
        "id": "FFdixOezuuVK"
      },
      "execution_count": null,
      "outputs": []
    }
  ]
}