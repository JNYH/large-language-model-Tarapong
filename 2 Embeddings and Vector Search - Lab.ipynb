{
  "nbformat": 4,
  "nbformat_minor": 0,
  "metadata": {
    "colab": {
      "provenance": [],
      "authorship_tag": "ABX9TyOt4OqEFvh7WicBWjknz30X",
      "include_colab_link": true
    },
    "kernelspec": {
      "name": "python3",
      "display_name": "Python 3"
    },
    "language_info": {
      "name": "python"
    }
  },
  "cells": [
    {
      "cell_type": "markdown",
      "metadata": {
        "id": "view-in-github",
        "colab_type": "text"
      },
      "source": [
        "<a href=\"https://colab.research.google.com/github/sreent/large-language-model/blob/main/2%20Embeddings%20and%20Vector%20Search%20-%20Lab.ipynb\" target=\"_parent\"><img src=\"https://colab.research.google.com/assets/colab-badge.svg\" alt=\"Open In Colab\"/></a>"
      ]
    },
    {
      "cell_type": "markdown",
      "source": [
        "# Embeddings and Vector Search\n",
        "\n",
        "In this lab, we will apply the text vectorization, search, and question answering workflow that you learned in the demo. The dataset we will use this time will be on talk titles and sessions from [Data + AI Summit 2023](https://www.databricks.com/dataaisummit/).\n",
        "\n",
        "##Learning Objectives\n",
        "1. Learn how to use Chroma to store your embedding vectors and conduct similarity search\n",
        "2. Use OpenAI GPT-3.5 to generate response to your prompt"
      ],
      "metadata": {
        "id": "e1_YPyfUW58q"
      }
    },
    {
      "cell_type": "markdown",
      "source": [
        "### Libraries:\n",
        "* [transformers](https://github.com/huggingface/transformers) is for Hugging Face's transformer models\n",
        "* [datasets](https://github.com/huggingface/datasets) is for Hugging Face's datasets\n",
        "* [chromadb](https://github.com/chroma-core/chroma) is for ChromaDB vector database"
      ],
      "metadata": {
        "id": "Ed1F95YWW6nM"
      }
    },
    {
      "cell_type": "code",
      "source": [
        "!pip -q install git+https://github.com/huggingface/transformers\n",
        "!pip -q install git+https://github.com/huggingface/datasets\n",
        "!pip -q install chromadb==0.3.21 tiktoken==0.3.3\n",
        "\n",
        "# create a folder for persisting chromadb data\n",
        "!mkdir -p /content/user_db"
      ],
      "metadata": {
        "id": "NV_a2RPSYXJU"
      },
      "execution_count": null,
      "outputs": []
    },
    {
      "cell_type": "markdown",
      "source": [
        "## Read data\n"
      ],
      "metadata": {
        "id": "ztneW42xZOiB"
      }
    },
    {
      "cell_type": "code",
      "source": [
        "import pandas as pd\n",
        "\n",
        "# URL for our data science talk dataset, dais23_talks.csv\n",
        "URL = \"https://drive.google.com/file/d/1hHDrzTyV3YJM-cR5ABHKvGIP8wVINNPd/view?usp=sharing\"\n",
        "FILE_PATH = \"https://drive.google.com/uc?export=download&id=\" + URL.split(\"/\")[-2]\n",
        "\n",
        "dais_pdf = pd.read_csv(FILE_PATH, sep=\",\")\n",
        "display(dais_pdf)"
      ],
      "metadata": {
        "id": "nbMlFyXXZTS8"
      },
      "execution_count": null,
      "outputs": []
    },
    {
      "cell_type": "code",
      "source": [
        "dais_pdf[\"full_text\"] = dais_pdf.apply(\n",
        "    lambda row: f\"\"\"Title: {row[\"Title\"]}\n",
        "                Abstract:  {row[\"Abstract\"]}\"\"\".strip(),\n",
        "    axis=1,\n",
        ")\n",
        "print(dais_pdf.iloc[0][\"full_text\"])"
      ],
      "metadata": {
        "id": "NcXqpfRQz354"
      },
      "execution_count": null,
      "outputs": []
    },
    {
      "cell_type": "code",
      "source": [
        "texts = dais_pdf[\"full_text\"].to_list()"
      ],
      "metadata": {
        "id": "QGfC8Eknz-cW"
      },
      "execution_count": null,
      "outputs": []
    },
    {
      "cell_type": "markdown",
      "source": [
        "## Question 1\n",
        "Set up Chroma and create collection"
      ],
      "metadata": {
        "id": "iYQ7YcfTZAJS"
      }
    },
    {
      "cell_type": "code",
      "source": [
        "import chromadb\n",
        "from chromadb.config import Settings\n",
        "\n",
        "chroma_client = chromadb.Client(\n",
        "    Settings(\n",
        "        chroma_db_impl=\"duckdb+parquet\",\n",
        "        persist_directory=\"/content/user_db\",  # this is an optional argument. If you don't supply this, the data will be ephemeral\n",
        "    )\n",
        ")\n"
      ],
      "metadata": {
        "id": "3mOb7XhG0M5c"
      },
      "execution_count": null,
      "outputs": []
    },
    {
      "cell_type": "markdown",
      "source": [
        "Assign the value of `my_talks` to the `collection_name` variable."
      ],
      "metadata": {
        "id": "-1JqeUEc0-Kq"
      }
    },
    {
      "cell_type": "code",
      "source": [
        "# TODO\n",
        "collection_name = \"<FILL_IN>\"\n",
        "\n",
        "# If you have created the collection before, you need to delete the collection first\n",
        "if len(chroma_client.list_collections()) > 0 and collection_name in [chroma_client.list_collections()[0].name]:\n",
        "    chroma_client.delete_collection(name=collection_name)\n",
        "else:\n",
        "    print(f\"Creating collection: '{collection_name}'\")\n",
        "    talks_collection = chroma_client.create_collection(name=collection_name)"
      ],
      "metadata": {
        "id": "ZcMJsNb91Doz"
      },
      "execution_count": null,
      "outputs": []
    },
    {
      "cell_type": "markdown",
      "source": [
        "## Question 2\n",
        "\n",
        "[Add](https://docs.trychroma.com/reference/Collection#add) data to the collection.\n"
      ],
      "metadata": {
        "id": "smJyY-7J1OfK"
      }
    },
    {
      "cell_type": "code",
      "source": [
        "# TODO\n",
        "talks_collection.add(\n",
        "    documents=<FILL_IN>,\n",
        "    ids=<FILL_IN>\n",
        ")"
      ],
      "metadata": {
        "id": "HkI_NV2v1J9s"
      },
      "execution_count": null,
      "outputs": []
    },
    {
      "cell_type": "markdown",
      "source": [
        "## Question 3\n",
        "[Query](https://docs.trychroma.com/reference/Collection#query) for relevant documents. If you are looking for talks related to language models, your query texts could be `language models`.\n",
        "\n"
      ],
      "metadata": {
        "id": "JtGMkG1z1XPF"
      }
    },
    {
      "cell_type": "code",
      "source": [
        "# TODO\n",
        "import json\n",
        "\n",
        "results = talks_collection.query(\n",
        "    query_texts=<FILL_IN>,\n",
        "    n_results=<FILL_IN>\n",
        ")\n",
        "\n",
        "print(json.dumps(results, indent=4))"
      ],
      "metadata": {
        "id": "9Ck5N46H1cbF"
      },
      "execution_count": null,
      "outputs": []
    },
    {
      "cell_type": "markdown",
      "source": [
        "## Question 4\n",
        "Load a language model and create a [pipeline](https://huggingface.co/docs/transformers/main/en/main_classes/pipelines).\n"
      ],
      "metadata": {
        "id": "REiqOCDw1gSs"
      }
    },
    {
      "cell_type": "code",
      "source": [
        "# TODO\n",
        "from transformers import AutoTokenizer, AutoModelForCausalLM, pipeline\n",
        "\n",
        "# Pick a model from HuggingFace that can generate text\n",
        "model_id = \"<FILL_IN>\"\n",
        "tokenizer = AutoTokenizer.from_pretrained(model_id)\n",
        "lm_model = AutoModelForCausalLM.from_pretrained(model_id)\n",
        "\n",
        "pipe = pipeline(\n",
        "    \"<FILL_IN>\", model=lm_model, tokenizer=tokenizer, max_new_tokens=512, device_map=\"auto\", handle_long_generation=\"hole\"\n",
        ")\n"
      ],
      "metadata": {
        "id": "O3oBN6871mKh"
      },
      "execution_count": null,
      "outputs": []
    },
    {
      "cell_type": "code",
      "source": [
        "# TODO\n",
        "# Come up with a question that you need the LLM assistant to help you with\n",
        "# A sample question is \"Help me find sessions related to XYZ\"\n",
        "# Note: Your \"XYZ\" should be related to the query you passed in Question 3.\n",
        "question = \"<FILL_IN>\"\n",
        "\n",
        "# Provide all returned similar documents from the cell above below\n",
        "context = <FILL_IN>\n",
        "\n",
        "# Feel free to be creative how you construct the prompt. You can use the demo notebook as a jumpstart reference.\n",
        "# You can also provide more requirements in the text how you want the answers to look like.\n",
        "# Example requirement: \"Recommend top-5 relevant sessions for me to attend.\"\n",
        "prompt_template = <FILL_IN>"
      ],
      "metadata": {
        "id": "QqSCczsr3UX9"
      },
      "execution_count": null,
      "outputs": []
    },
    {
      "cell_type": "markdown",
      "source": [
        "## Question 6\n",
        "\n",
        "Submit query for language model to generate response.\n",
        "\n",
        "Hint: If you run into the error `index out of range in self`, make sure to check out this [documentation page](https://huggingface.co/docs/transformers/main_classes/pipelines#transformers.TextGenerationPipeline.__call__.handle_long_generation).\n"
      ],
      "metadata": {
        "id": "z3fef8tTgMVJ"
      }
    },
    {
      "cell_type": "code",
      "source": [
        "# TODO\n",
        "lm_response = pipe(<FILL_IN>)\n",
        "print(lm_response[0][\"generated_text\"])\n"
      ],
      "metadata": {
        "id": "dvoOLRZQY4hw"
      },
      "execution_count": null,
      "outputs": []
    },
    {
      "cell_type": "markdown",
      "source": [
        "Notice that the output isn't exactly helpful. Head on to using OpenAI to try out GPT-3.5 instead!"
      ],
      "metadata": {
        "id": "RBFbSINwbXvG"
      }
    },
    {
      "cell_type": "markdown",
      "source": [
        "## OPTIONAL (Non-Graded): Use OpenAI models for Q/A\n",
        "\n",
        "For this section to work, you need to generate an Open AI key.\n",
        "\n",
        "Steps:\n",
        "1. You need to [create an account](https://platform.openai.com/signup) on OpenAI.\n",
        "2. Generate an OpenAI [API key here](https://platform.openai.com/account/api-keys).\n",
        "\n",
        "Note: OpenAI does not have a free option, but it gives you $5 as credit. Once you have exhausted your \\$5 credit, you will need to add your payment method. You will be [charged per token usage](https://openai.com/pricing). **IMPORTANT**: It's crucial that you keep your OpenAI API key to yourself. If others have access to your OpenAI key, they will be able to charge their usage to your account!\n"
      ],
      "metadata": {
        "id": "WUL_KVNJ3szf"
      }
    },
    {
      "cell_type": "code",
      "source": [
        "# TODO\n",
        "import os\n",
        "\n",
        "os.environ[\"OPENAI_API_KEY\"] = \"<FILL IN>\""
      ],
      "metadata": {
        "id": "Y8jWhQQubgTi"
      },
      "execution_count": null,
      "outputs": []
    },
    {
      "cell_type": "markdown",
      "source": [
        "If you would like to estimate how much it would cost to use OpenAI, you can use `tiktoken` library from OpenAI to get the number of tokens from your prompt.\n",
        "\n",
        "We will be using `gpt-3.5-turbo` since it's the most economical option at (\\$0.002/1k tokens), as of May 2023. GPT-4 charges \\$0.04/1k tokens. The following code block below is referenced from OpenAI's documentation on [\"Managing tokens\"](https://platform.openai.com/docs/guides/chat/managing-tokens)."
      ],
      "metadata": {
        "id": "kHpQuZN3ahWm"
      }
    },
    {
      "cell_type": "code",
      "source": [
        "import tiktoken\n",
        "\n",
        "price_token = 0.002\n",
        "encoder = tiktoken.encoding_for_model(\"gpt-3.5-turbo\")\n",
        "cost_to_run = len(encoder.encode(prompt_template)) / 1000 * price_token\n",
        "print(f\"It would take roughly ${round(cost_to_run, 5)} to run this prompt\")"
      ],
      "metadata": {
        "id": "F3VtfFRqZJJ0"
      },
      "execution_count": null,
      "outputs": []
    },
    {
      "cell_type": "markdown",
      "source": [
        "We won't have to create a new vector database again. We can just send our `context` from above to OpenAI. We will use their chat completion API to interact with `GPT-3.5-turbo`. You can refer to their [documentation here](https://platform.openai.com/docs/guides/chat).\n",
        "\n",
        "Something interesting is that OpenAI models use the system message to help their assistant to be more accurate. From OpenAI's [docs](https://platform.openai.com/docs/guides/chat/introduction):\n",
        "\n",
        "> Future models will be trained to pay stronger attention to system messages. The system message helps set the behavior of the assistant."
      ],
      "metadata": {
        "id": "vAT8lqq6g2nI"
      }
    },
    {
      "cell_type": "code",
      "source": [
        "# TODO\n",
        "gpt35_response = openai.ChatCompletion.create(\n",
        "    model=\"gpt-3.5-turbo\",\n",
        "    messages=[\n",
        "        {\"role\": \"system\", \"content\": \"You are a helpful assistant.\"},\n",
        "        {\"role\": \"user\", \"content\": <FILL_IN>},\n",
        "    ],\n",
        "    temperature=0, # 0 makes outputs deterministic; The closer the value is to 1, the more random the outputs are for each time you re-run.\n",
        ")"
      ],
      "metadata": {
        "id": "udH8Mdpwa3MF"
      },
      "execution_count": null,
      "outputs": []
    },
    {
      "cell_type": "code",
      "source": [
        "print(gpt35_response.choices[0][\"message\"][\"content\"])"
      ],
      "metadata": {
        "id": "JQ0i6yYp4eSa"
      },
      "execution_count": null,
      "outputs": []
    },
    {
      "cell_type": "code",
      "source": [
        "from IPython.display import Markdown\n",
        "\n",
        "Markdown(gpt35_response.choices[0][\"message\"][\"content\"])"
      ],
      "metadata": {
        "id": "9iKGTfxS4g08"
      },
      "execution_count": null,
      "outputs": []
    },
    {
      "cell_type": "markdown",
      "source": [
        "We can also check how many tokens OpenAI has used"
      ],
      "metadata": {
        "id": "hMBk56xbhBTg"
      }
    },
    {
      "cell_type": "code",
      "source": [
        "gpt35_response[\"usage\"][\"total_tokens\"]"
      ],
      "metadata": {
        "id": "19D8MTQFa7KX"
      },
      "execution_count": null,
      "outputs": []
    },
    {
      "cell_type": "markdown",
      "source": [
        "The results are noticeably much better compared to when using Hugging Face's GPT-2! It didn't get stuck in the text generation, but the sessions recommended are not all relevant to pandas either. You can further do more prompt engineering to get better results.\n"
      ],
      "metadata": {
        "id": "vLDe5l3ZhOfX"
      }
    }
  ]
}