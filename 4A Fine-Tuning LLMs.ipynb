{
  "nbformat": 4,
  "nbformat_minor": 0,
  "metadata": {
    "colab": {
      "provenance": [],
      "gpuType": "T4",
      "authorship_tag": "ABX9TyOS8Qse5nR/m0zIcqsztfZH",
      "include_colab_link": true
    },
    "kernelspec": {
      "name": "python3",
      "display_name": "Python 3"
    },
    "language_info": {
      "name": "python"
    },
    "accelerator": "GPU"
  },
  "cells": [
    {
      "cell_type": "markdown",
      "metadata": {
        "id": "view-in-github",
        "colab_type": "text"
      },
      "source": [
        "<a href=\"https://colab.research.google.com/github/sreent/large-language-model/blob/main/4A%20Fine-Tuning%20LLMs.ipynb\" target=\"_parent\"><img src=\"https://colab.research.google.com/assets/colab-badge.svg\" alt=\"Open In Colab\"/></a>"
      ]
    },
    {
      "cell_type": "markdown",
      "source": [
        "# Fine-tuning LLMs\n",
        "Many LLMs are general purpose models trained on a broad range of data and use cases. This enables them to perform well in a variety of applications, as shown in previous modules. It is not uncommon though to find situations where applying a general purpose model performs unacceptably for specific dataset or use case. This often does not mean that the general purpose model is unusable. Perhaps, with some new data and additional training the model could be improved, or fine-tuned, such that it produces acceptable results for the specific use case.\n",
        "  \n",
        "Fine-tuning uses a pre-trained model as a base and continues to train it with a new, task targeted dataset. Conceptually, fine-tuning leverages that which has already been learned by a model and aims to focus its learnings further for a specific task.\n",
        "\n",
        "It is important to recognize that fine-tuning is model training. The training process remains a resource intensive, and time consuming effort. Albeit fine-tuning training time is greatly shortened as a result of having started from a pre-trained model. The model training process can be accelerated through the use of tools like Microsoft's [DeepSpeed](https://github.com/microsoft/DeepSpeed).\n",
        "\n",
        "This notebook will explore how to perform fine-tuning at scale.\n",
        "\n",
        "### Learning Objectives\n",
        "1. Prepare a novel dataset\n",
        "2. Fine-tune the `t5-small` model to classify movie reviews.\n",
        "3. Leverage DeepSpeed to enhance training process."
      ],
      "metadata": {
        "id": "Ed1F95YWW6nM"
      }
    },
    {
      "cell_type": "markdown",
      "source": [
        "### Libraries:\n",
        "* [transformers[torch]](https://github.com/huggingface/transformers) is for Hugging Face's transformer models with Torch support\n",
        "* [huggingface-hub](https://github.com/huggingface/datasets) is for Hugging Face's model repositories\n",
        "* [deepspeed](https://github.com/facebookresearch/faiss) is for accelerating model training\n",
        "* [py-cpuinfo](https://github.com/chroma-core/chroma) is for querying CPU information\n",
        "* [datasets](https://github.com/huggingface/datasets) is for Hugging Face's datasets"
      ],
      "metadata": {
        "id": "BW307vPdnotn"
      }
    },
    {
      "cell_type": "code",
      "source": [
        "!pip -q install transformers[torch]==4.32.0\n",
        "!pip -q install huggingface-hub==0.16.4\n",
        "!pip -q install deepspeed==0.10.1 py-cpuinfo==9.0.0\n",
        "!pip -q install datasets==2.14.4"
      ],
      "metadata": {
        "id": "NV_a2RPSYXJU"
      },
      "execution_count": null,
      "outputs": []
    },
    {
      "cell_type": "markdown",
      "source": [
        "Creating a local temporary directory on the Driver. This will serve as a root directory for the intermediate model checkpoints created during the training process. The final model will be persisted to <code>/content/llms/workspace/</code> .\n"
      ],
      "metadata": {
        "id": "KYM5fbP7oPeR"
      }
    },
    {
      "cell_type": "code",
      "source": [
        "!mkdir -p /content/llms\n",
        "!mkdir -p /content/llms/workpace\n",
        "!mkdir -p /content/llms/datasets\n",
        "\n",
        "WORKSPACE = \"/content/llms/workspace\"\n",
        "DATASETS = \"/content/llms/datasets\""
      ],
      "metadata": {
        "id": "a0Kr0_PGoglZ"
      },
      "execution_count": null,
      "outputs": []
    },
    {
      "cell_type": "markdown",
      "source": [
        "Creating a local temporary directory on the Driver. This will serve as a root directory for the intermediate model checkpoints created during the training process. The final model will be persisted to DBFS.\n"
      ],
      "metadata": {
        "id": "294R6bveu3SV"
      }
    },
    {
      "cell_type": "code",
      "source": [
        "import tempfile\n",
        "\n",
        "tmpdir = tempfile.TemporaryDirectory()\n",
        "local_training_root = tmpdir.name"
      ],
      "metadata": {
        "id": "HrshD6HTu574"
      },
      "execution_count": null,
      "outputs": []
    },
    {
      "cell_type": "markdown",
      "source": [
        "## Fine-Tuning"
      ],
      "metadata": {
        "id": "ztneW42xZOiB"
      }
    },
    {
      "cell_type": "code",
      "source": [
        "import os\n",
        "import pandas as pd\n",
        "import transformers as tr\n",
        "from datasets import load_dataset"
      ],
      "metadata": {
        "id": "HAh8b1ansGLc"
      },
      "execution_count": null,
      "outputs": []
    },
    {
      "cell_type": "markdown",
      "source": [
        "### Step 1 - Data Preparation\n",
        "\n",
        "The first step of the fine-tuning process is to identify a specific task and supporting dataset. In this notebook, we will consider the specific task to be classifying movie reviews. This idea is generally simple task where a movie review is provided as plain-text and we would like to determine whether or not the review was positive or negative.\n",
        "\n",
        "The [IMDB dataset](https://huggingface.co/datasets/imdb) can be leveraged as a supporting dataset for this task. The dataset conveniently provides both a training and testing dataset with labeled binary sentiments, as well as a dataset of unlabeled data.\n"
      ],
      "metadata": {
        "id": "27mLo0o-sPEw"
      }
    },
    {
      "cell_type": "code",
      "source": [
        "imdb_ds = load_dataset(\"imdb\")"
      ],
      "metadata": {
        "id": "d4247_MDsOD1"
      },
      "execution_count": null,
      "outputs": []
    },
    {
      "cell_type": "markdown",
      "source": [
        "### Step 2 - Select pre-trained model\n",
        "\n",
        "The next step of the fine-tuning process is to select a pre-trained model. We will consider using the [T5](https://huggingface.co/docs/transformers/model_doc/t5) [[paper]](https://arxiv.org/pdf/1910.10683.pdf) family of models for our fine-tuning purposes. The T5 models are text-to-text transformers that have been trained on a multi-task mixture of unsupervised and supervised tasks. They are well suited for tasks such as summarization, translation, text classification, question answering, and more.\n",
        "\n",
        "The `t5-small` version of the T5 models has 60 million parameters. This slimmed down version will be sufficient for our purposes.\n"
      ],
      "metadata": {
        "id": "YsBsNO6PsZ4_"
      }
    },
    {
      "cell_type": "code",
      "source": [
        "model_checkpoint = \"t5-small\""
      ],
      "metadata": {
        "id": "nbMlFyXXZTS8"
      },
      "execution_count": null,
      "outputs": []
    },
    {
      "cell_type": "markdown",
      "source": [
        "Recall from Module 1, Hugging Face provides the [Auto*](https://huggingface.co/docs/transformers/model_doc/auto) suite of objects to conveniently instantiate the various components associated with a pre-trained model. Here, we use the [AutoTokenizer](https://huggingface.co/docs/transformers/model_doc/auto#transformers.AutoTokenizer) to load in the tokenizer that is associated with the `t5-small` model.\n"
      ],
      "metadata": {
        "id": "iYQ7YcfTZAJS"
      }
    },
    {
      "cell_type": "code",
      "source": [
        "# load the tokenizer that was used for the t5-small model\n",
        "tokenizer = tr.AutoTokenizer.from_pretrained(\n",
        "    model_checkpoint,\n",
        "    cache_dir=DATASETS\n",
        ")  # Use a pre-cached model\n"
      ],
      "metadata": {
        "id": "LN1o4KdUs1O3"
      },
      "execution_count": null,
      "outputs": []
    },
    {
      "cell_type": "markdown",
      "source": [
        "As mentioned above, the IMDB dataset is a binary sentiment dataset. Its labels therefore are encoded as (-1 - unknown; 0 - negative; 1 - positive) values. In order to use this dataset with a text-to-text model like T5, the label set needs to be represented as a string. There are a number of ways to accomplish this. Here, we will simply translate each label id to its corresponding string value."
      ],
      "metadata": {
        "id": "BaATE4CytyMT"
      }
    },
    {
      "cell_type": "code",
      "source": [
        "def to_tokens(tokenizer: tr.models.t5.tokenization_t5_fast.T5TokenizerFast,\n",
        "              label_map: dict) -> callable:\n",
        "    \"\"\"\n",
        "    Given a `tokenizer` this closure will iterate through `x` and return the result of `apply()`.\n",
        "    This function is mapped to a dataset and returned with ids and attention mask.\n",
        "    \"\"\"\n",
        "\n",
        "    def apply(x) -> tr.tokenization_utils_base.BatchEncoding:\n",
        "        \"\"\"From a formatted dataset `x` a batch encoding `token_res` is created.\"\"\"\n",
        "        target_labels = [label_map[y] for y in x[\"label\"]]\n",
        "        token_res = tokenizer(\n",
        "            x[\"text\"],\n",
        "            text_target=target_labels,\n",
        "            return_tensors=\"pt\",\n",
        "            truncation=True,\n",
        "            padding=True,\n",
        "        )\n",
        "        return token_res\n",
        "\n",
        "    return apply\n",
        "\n",
        "\n",
        "imdb_label_lookup = {0: \"negative\", 1: \"positive\", -1: \"unknown\"}"
      ],
      "metadata": {
        "id": "fypEljLLtrDS"
      },
      "execution_count": null,
      "outputs": []
    },
    {
      "cell_type": "code",
      "source": [
        "imdb_to_tokens = to_tokens(tokenizer, imdb_label_lookup)\n",
        "tokenized_dataset = imdb_ds.map(\n",
        "    imdb_to_tokens, batched=True, remove_columns=[\"text\", \"label\"]\n",
        ")"
      ],
      "metadata": {
        "id": "dvoOLRZQY4hw"
      },
      "execution_count": null,
      "outputs": []
    },
    {
      "cell_type": "markdown",
      "source": [
        "### Step 3 - Setup Training\n",
        "\n",
        "The model training process is highly configurable. The [TrainingArguments](https://huggingface.co/docs/transformers/main_classes/trainer#transformers.TrainingArguments) class effectively exposes the configurable aspects of the process allowing one to customize them accordingly. Here, we will focus on setting up a training process that performs a single epoch of training with a batch size of 16. We will also leverage `adamw_torch` as the optimizer.\n"
      ],
      "metadata": {
        "id": "RBFbSINwbXvG"
      }
    },
    {
      "cell_type": "code",
      "source": [
        "checkpoint_name = \"test-trainer\"\n",
        "local_checkpoint_path = os.path.join(local_training_root, checkpoint_name)\n",
        "training_args = tr.TrainingArguments(\n",
        "    local_checkpoint_path,\n",
        "    num_train_epochs=1,  # default number of epochs to train is 3\n",
        "    per_device_train_batch_size=16,\n",
        "    optim=\"adamw_torch\",\n",
        "    report_to=[\"tensorboard\"],\n",
        ")"
      ],
      "metadata": {
        "id": "Y8jWhQQubgTi"
      },
      "execution_count": null,
      "outputs": []
    },
    {
      "cell_type": "markdown",
      "source": [
        "The pre-trained `t5-small` model can be loaded using the [AutoModelForSeq2SeqLM](https://huggingface.co/docs/transformers/model_doc/auto#transformers.AutoModelForSeq2SeqLM) class.\n"
      ],
      "metadata": {
        "id": "kHpQuZN3ahWm"
      }
    },
    {
      "cell_type": "code",
      "source": [
        "# load the pre-trained model\n",
        "model = tr.AutoModelForSeq2SeqLM.from_pretrained(\n",
        "    model_checkpoint, cache_dir=DATASETS\n",
        ")  # Use a pre-cached model"
      ],
      "metadata": {
        "id": "F3VtfFRqZJJ0"
      },
      "execution_count": null,
      "outputs": []
    },
    {
      "cell_type": "code",
      "source": [
        "# used to assist the trainer in batching the data\n",
        "data_collator = tr.DataCollatorWithPadding(tokenizer=tokenizer)\n",
        "trainer = tr.Trainer(\n",
        "    model,\n",
        "    training_args,\n",
        "    train_dataset=tokenized_dataset[\"train\"],\n",
        "    eval_dataset=tokenized_dataset[\"test\"],\n",
        "    tokenizer=tokenizer,\n",
        "    data_collator=data_collator,\n",
        ")"
      ],
      "metadata": {
        "id": "bbBqvVdNxeQe"
      },
      "execution_count": null,
      "outputs": []
    },
    {
      "cell_type": "markdown",
      "source": [
        "### Step 4 - Train"
      ],
      "metadata": {
        "id": "vAT8lqq6g2nI"
      }
    },
    {
      "cell_type": "markdown",
      "source": [
        "Before starting the training process, let's turn on Tensorboard. This will allow us to monitor the training process as checkpoint logs are created.\n"
      ],
      "metadata": {
        "id": "_9PShU30xonx"
      }
    },
    {
      "cell_type": "code",
      "source": [
        "tensorboard_display_dir = f\"{local_checkpoint_path}/runs\""
      ],
      "metadata": {
        "id": "udH8Mdpwa3MF"
      },
      "execution_count": null,
      "outputs": []
    },
    {
      "cell_type": "code",
      "source": [
        "%load_ext tensorboard\n",
        "%tensorboard --logdir '{tensorboard_display_dir}'"
      ],
      "metadata": {
        "id": "TD4lUiXmx1lO"
      },
      "execution_count": null,
      "outputs": []
    },
    {
      "cell_type": "markdown",
      "source": [
        "Start the fine-tuning process.\n"
      ],
      "metadata": {
        "id": "hMBk56xbhBTg"
      }
    },
    {
      "cell_type": "code",
      "source": [
        "trainer.train()"
      ],
      "metadata": {
        "id": "19D8MTQFa7KX"
      },
      "execution_count": null,
      "outputs": []
    },
    {
      "cell_type": "code",
      "source": [
        "# save model to the local checkpoint\n",
        "trainer.save_model()\n",
        "trainer.save_state()"
      ],
      "metadata": {
        "id": "4Ow-_LykyEas"
      },
      "execution_count": null,
      "outputs": []
    },
    {
      "cell_type": "code",
      "source": [
        "# persist the fine-tuned model to Colab FS\n",
        "final_model_path = f\"{WORKSPACE}/llm04_fine_tuning/{checkpoint_name}\"\n",
        "trainer.save_model(output_dir=final_model_path)"
      ],
      "metadata": {
        "id": "b6RJDmgryKM5"
      },
      "execution_count": null,
      "outputs": []
    },
    {
      "cell_type": "markdown",
      "source": [
        "### Step 5 - Predict\n"
      ],
      "metadata": {
        "id": "vLDe5l3ZhOfX"
      }
    },
    {
      "cell_type": "code",
      "source": [
        "fine_tuned_model = tr.AutoModelForSeq2SeqLM.from_pretrained(final_model_path)"
      ],
      "metadata": {
        "id": "g9p5Sk7xyYI8"
      },
      "execution_count": null,
      "outputs": []
    },
    {
      "cell_type": "code",
      "source": [
        "reviews = [\n",
        "    \"\"\"\n",
        "'Despicable Me' is a cute and funny movie, but the plot is predictable and the characters are not very well-developed. Overall, it's a good movie for kids, but adults might find it a bit boring.\"\"\",\n",
        "    \"\"\" 'The Batman' is a dark and gritty take on the Caped Crusader, starring Robert Pattinson as Bruce Wayne. The film is a well-made crime thriller with strong performances and visuals, but it may be too slow-paced and violent for some viewers.\n",
        "\"\"\",\n",
        "    \"\"\"\n",
        "The Phantom Menace is a visually stunning film with some great action sequences, but the plot is slow-paced and the dialogue is often wooden. It is a mixed bag that will appeal to some fans of the Star Wars franchise, but may disappoint others.\n",
        "\"\"\",\n",
        "    \"\"\"\n",
        "I'm not sure if The Matrix and the two sequels were meant to have a tigh consistency but I don't think they quite fit together. They seem to have a reasonably solid arc but the features from the first aren't in the second and third as much, instead the second and third focus more on CGI battles and more visuals. I like them but for different reasons, so if I'm supposed to rate the trilogy I'm not sure what to say.\n",
        "\"\"\",\n",
        "]\n",
        "inputs = tokenizer(reviews, return_tensors=\"pt\", truncation=True, padding=True)\n",
        "pred = fine_tuned_model.generate(\n",
        "    input_ids=inputs[\"input_ids\"], attention_mask=inputs[\"attention_mask\"]\n",
        ")"
      ],
      "metadata": {
        "id": "iC5hNZKmyZ76"
      },
      "execution_count": null,
      "outputs": []
    },
    {
      "cell_type": "code",
      "source": [
        "pdf = pd.DataFrame(\n",
        "    zip(reviews, tokenizer.batch_decode(pred, skip_special_tokens=True)),\n",
        "    columns=[\"review\", \"classification\"],\n",
        ")\n",
        "display(pdf)"
      ],
      "metadata": {
        "id": "oAR3hGeYydmZ"
      },
      "execution_count": null,
      "outputs": []
    },
    {
      "cell_type": "markdown",
      "source": [
        "## DeepSpeed\n",
        "\n",
        "As model architectures evolve and grow, they continually push the limits of available computational resources. For example, some large LLMs having hundreds of billions of parameters making them too large to fit, in some cases, in available GPU memory. Models of this scale therefore need to leverage distributed processing or high-end hardware, and sometimes even both, to support training efforts. This makes large model training a costly undertaking, and therefore accelerating the training process is highly desirable.\n",
        "\n",
        "As mentioned above, one such framework that can be leveraged to accelerate the model training process is Microsoft's [DeepSpeed](https://github.com/microsoft/DeepSpeed) [[paper]](https://arxiv.org/pdf/2207.00032.pdf). This framework provides advances in compression, distributed training, mixed precision, gradient accumulation, and checkpointing.\n",
        "\n",
        "It is worth noting that DeepSpeed is intended for large models that do not fit into device memory. The `t5-base` model we are using is not a large model, and therefore DeepSpeed is not expected to provide a benefit.\n"
      ],
      "metadata": {
        "id": "RDspun6ShUyJ"
      }
    },
    {
      "cell_type": "markdown",
      "source": [
        "### Environment Setup\n",
        "\n",
        "The intended use for DeepSpeed is in a distributed compute environment. As such, each node of the environment is assigned a `rank` and `local_rank` in relation to the size of the distributed environment.\n",
        "\n",
        "Here, since we are testing with a single node/GPU environment we will set the `world_size` to 1, and both `ranks` to 0.\n"
      ],
      "metadata": {
        "id": "jzXNkrMnyu25"
      }
    },
    {
      "cell_type": "code",
      "source": [
        "os.environ[\"MASTER_ADDR\"] = \"localhost\"\n",
        "os.environ[\"MASTER_PORT\"] = \"9994\"  # modify if RuntimeError: Address already in use\n",
        "os.environ[\"RANK\"] = \"0\"\n",
        "os.environ[\"LOCAL_RANK\"] = \"0\"\n",
        "os.environ[\"WORLD_SIZE\"] = \"1\""
      ],
      "metadata": {
        "id": "f7bQGgFx1KKe"
      },
      "execution_count": null,
      "outputs": []
    },
    {
      "cell_type": "markdown",
      "source": [
        "### Configuration\n",
        "\n",
        "There are a number of [configuration options](https://www.deepspeed.ai/docs/config-json/) that can be set to enhance the training and inference processes. The [ZeRO optimization](https://www.deepspeed.ai/training/#memory-efficiency) settings target reducing the memory footprint allowing for larger models to be efficiently trained on limited resources.\n",
        "\n",
        "The Hugging Face `TrainerArguments` accept the configuration either from a JSON file or a dictionary. Here, we will define the dictionary.\n"
      ],
      "metadata": {
        "id": "XdM3RMouzDgc"
      }
    },
    {
      "cell_type": "code",
      "source": [
        "zero_config = {\n",
        "    \"zero_optimization\": {\n",
        "        \"stage\": 2,\n",
        "        \"offload_optimizer\": {\"device\": \"cpu\", \"pin_memory\": True},\n",
        "        \"allgather_partitions\": True,\n",
        "        \"allgather_bucket_size\": 5e8,\n",
        "        \"overlap_comm\": True,\n",
        "        \"reduce_scatter\": True,\n",
        "        \"reduce_bucket_size\": 5e8,\n",
        "        \"contiguous_gradients\": True,\n",
        "    },\n",
        "    \"optimizer\": {\n",
        "        \"type\": \"AdamW\",\n",
        "        \"params\": {\n",
        "            \"lr\": \"auto\",\n",
        "            \"betas\": \"auto\",\n",
        "            \"eps\": \"auto\",\n",
        "            \"weight_decay\": \"auto\",\n",
        "            \"torch_adam\": True,\n",
        "        },\n",
        "    },\n",
        "    \"train_batch_size\": \"auto\",\n",
        "}"
      ],
      "metadata": {
        "id": "HOvWICgFhHw8"
      },
      "execution_count": null,
      "outputs": []
    },
    {
      "cell_type": "code",
      "source": [
        "model_checkpoint = \"t5-base\"\n",
        "tokenizer = tr.AutoTokenizer.from_pretrained(\n",
        "    model_checkpoint, cache_dir=DATASETS\n",
        ")\n",
        "\n",
        "imdb_to_tokens = to_tokens(tokenizer, imdb_label_lookup)\n",
        "tokenized_dataset = imdb_ds.map(\n",
        "    imdb_to_tokens, batched=True, remove_columns=[\"text\", \"label\"]\n",
        ")\n",
        "\n",
        "model = tr.AutoModelForSeq2SeqLM.from_pretrained(\n",
        "    model_checkpoint, cache_dir=DATASETS\n",
        ")"
      ],
      "metadata": {
        "id": "e9VmnEXDzRsq"
      },
      "execution_count": null,
      "outputs": []
    },
    {
      "cell_type": "markdown",
      "source": [
        "### Train"
      ],
      "metadata": {
        "id": "LrncK50zhi0K"
      }
    },
    {
      "cell_type": "markdown",
      "source": [
        "There are only two changes made to the training setup from above. The first is to set a new checkpoint name. The second is to add the `deepspeed` configuration to the `TrainingArguments`.\n",
        "\n",
        "Note: at this time the `deepspeed` argument is considered an experimental feature and may evolve in the future.\n"
      ],
      "metadata": {
        "id": "HW6vMvuHzb4k"
      }
    },
    {
      "cell_type": "code",
      "source": [
        "checkpoint_name = \"test-trainer-deepspeed\"\n",
        "checkpoint_location = os.path.join(local_training_root, checkpoint_name)\n",
        "training_args = tr.TrainingArguments(\n",
        "    checkpoint_location,\n",
        "    num_train_epochs=3,  # default number of epochs to train is 3\n",
        "    per_device_train_batch_size=8,\n",
        "    deepspeed=zero_config,  # add the deepspeed configuration\n",
        "    report_to=[\"tensorboard\"],\n",
        ")"
      ],
      "metadata": {
        "id": "i7OCpJetbCES"
      },
      "execution_count": null,
      "outputs": []
    },
    {
      "cell_type": "code",
      "source": [
        "data_collator = tr.DataCollatorWithPadding(tokenizer=tokenizer)\n",
        "trainer = tr.Trainer(\n",
        "    model,\n",
        "    training_args,\n",
        "    train_dataset=tokenized_dataset[\"train\"],\n",
        "    eval_dataset=tokenized_dataset[\"test\"],\n",
        "    tokenizer=tokenizer,\n",
        "    data_collator=data_collator,\n",
        ")"
      ],
      "metadata": {
        "id": "NWv4axpXzkxS"
      },
      "execution_count": null,
      "outputs": []
    },
    {
      "cell_type": "code",
      "source": [
        "tensorboard_display_dir = f\"{checkpoint_location}/runs\""
      ],
      "metadata": {
        "id": "7EtDrrSbzoh_"
      },
      "execution_count": null,
      "outputs": []
    },
    {
      "cell_type": "code",
      "source": [
        "%reload_ext tensorboard\n",
        "%tensorboard --logdir '{tensorboard_display_dir}'"
      ],
      "metadata": {
        "id": "ASTw4HvOzr3K"
      },
      "execution_count": null,
      "outputs": []
    },
    {
      "cell_type": "code",
      "source": [
        "trainer.train()\n",
        "\n",
        "trainer.save_model()\n",
        "trainer.save_state()"
      ],
      "metadata": {
        "id": "gNyivKkBzy0u"
      },
      "execution_count": null,
      "outputs": []
    },
    {
      "cell_type": "code",
      "source": [
        "# persist the fine-tuned model to DBFS\n",
        "final_model_path = f\"{WORKSPACE}/llm04_fine_tuning/{checkpoint_name}\"\n",
        "trainer.save_model(output_dir=final_model_path)"
      ],
      "metadata": {
        "id": "EjLGDBzOz2P2"
      },
      "execution_count": null,
      "outputs": []
    },
    {
      "cell_type": "markdown",
      "source": [
        "### Predict"
      ],
      "metadata": {
        "id": "JCkWYupPbxdt"
      }
    },
    {
      "cell_type": "code",
      "source": [
        "fine_tuned_model = tr.AutoModelForSeq2SeqLM.from_pretrained(final_model_path)"
      ],
      "metadata": {
        "id": "NM79AfPlb8rd"
      },
      "execution_count": null,
      "outputs": []
    },
    {
      "cell_type": "code",
      "source": [
        "review = [\n",
        "    \"\"\"\n",
        "           I'm not sure if The Matrix and the two sequels were meant to have a tight consistency but I don't think they quite fit together. They seem to have a reasonably solid arc but the features from the first aren't in the second and third as much, instead the second and third focus more on CGI battles and more visuals. I like them but for different reasons, so if I'm supposed to rate the trilogy I'm not sure what to say.\"\"\"\n",
        "]\n",
        "inputs = tokenizer(review, return_tensors=\"pt\", truncation=True, padding=True)\n",
        "\n",
        "pred = fine_tuned_model.generate(\n",
        "    input_ids=inputs[\"input_ids\"], attention_mask=inputs[\"attention_mask\"]\n",
        ")"
      ],
      "metadata": {
        "id": "v6EKkqx50LTx"
      },
      "execution_count": null,
      "outputs": []
    },
    {
      "cell_type": "code",
      "source": [
        "pdf = pd.DataFrame(\n",
        "    zip(review, tokenizer.batch_decode(pred, skip_special_tokens=True)),\n",
        "    columns=[\"review\", \"classification\"],\n",
        ")\n",
        "display(pdf)"
      ],
      "metadata": {
        "id": "jyPkbQ730POM"
      },
      "execution_count": null,
      "outputs": []
    },
    {
      "cell_type": "markdown",
      "source": [
        "## Clean up Classroom\n",
        "\n",
        "Run the following cell to remove lessons-specific assets created during this lesson.\n"
      ],
      "metadata": {
        "id": "czmB-tedcInH"
      }
    },
    {
      "cell_type": "code",
      "source": [
        "tmpdir.cleanup()"
      ],
      "metadata": {
        "id": "foA_7EmicFr6"
      },
      "execution_count": null,
      "outputs": []
    }
  ]
}