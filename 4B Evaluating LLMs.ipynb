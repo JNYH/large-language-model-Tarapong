{
  "nbformat": 4,
  "nbformat_minor": 0,
  "metadata": {
    "colab": {
      "provenance": [],
      "gpuType": "T4",
      "authorship_tag": "ABX9TyMl8wEnOkvmITinnrnAo4tL",
      "include_colab_link": true
    },
    "kernelspec": {
      "name": "python3",
      "display_name": "Python 3"
    },
    "language_info": {
      "name": "python"
    },
    "accelerator": "GPU"
  },
  "cells": [
    {
      "cell_type": "markdown",
      "metadata": {
        "id": "view-in-github",
        "colab_type": "text"
      },
      "source": [
        "<a href=\"https://colab.research.google.com/github/sreent/large-language-model/blob/main/4B%20Evaluating%20LLMs.ipynb\" target=\"_parent\"><img src=\"https://colab.research.google.com/assets/colab-badge.svg\" alt=\"Open In Colab\"/></a>"
      ]
    },
    {
      "cell_type": "markdown",
      "source": [
        "# Evaluating Large Language Models (LLMs)\n",
        "This notebook demonstrates methods for evaluating LLMs. We focus on the task of summarization and cover accuracy, ROUGE-N, and perplexity.\n",
        "\n",
        "### Learning Objectives\n",
        "1. Know how to compute ROUGE-N and other metrics.\n",
        "2. Gain an intuitive understanding of ROUGE-N.\n",
        "3. Test various models and model sizes on the same data, and compare their results.\n"
      ],
      "metadata": {
        "id": "Ed1F95YWW6nM"
      }
    },
    {
      "cell_type": "markdown",
      "source": [
        "### Libraries:\n",
        "* [transformers[torch]](https://github.com/huggingface/transformers) is for Hugging Face's transformer models with Torch support\n",
        "* [huggingface-hub](https://github.com/huggingface/datasets) is for Hugging Face's model repositories\n",
        "* [deepspeed](https://github.com/facebookresearch/faiss) is for accelerating model training\n",
        "* [py-cpuinfo](https://github.com/chroma-core/chroma) is for querying CPU information\n",
        "* [datasets](https://github.com/huggingface/datasets) is for Hugging Face's datasets\n",
        "* [rouge_score](https://github.com/huggingface/datasets) is for evaluating LLMs"
      ],
      "metadata": {
        "id": "BW307vPdnotn"
      }
    },
    {
      "cell_type": "code",
      "source": [
        "!pip -q install transformers[torch]==4.32.0\n",
        "!pip -q install huggingface-hub==0.16.4\n",
        "!pip -q install deepspeed==0.10.1 py-cpuinfo==9.0.0\n",
        "!pip -q install datasets==2.14.4\n",
        "!pip -q install rouge-score==0.1.2\n",
        "!pip -q install evaluate==0.4.0"
      ],
      "metadata": {
        "id": "NV_a2RPSYXJU"
      },
      "execution_count": null,
      "outputs": []
    },
    {
      "cell_type": "markdown",
      "source": [
        "Creating a local temporary directory on the Driver. This will serve as a root directory for the intermediate model checkpoints created during the training process. The final model will be persisted to <code>/content/llms/workspace/</code> .\n"
      ],
      "metadata": {
        "id": "IwphMXus_B1j"
      }
    },
    {
      "cell_type": "code",
      "source": [
        "!mkdir -p /content/llms\n",
        "!mkdir -p /content/llms/workpace\n",
        "!mkdir -p /content/llms/datasets\n",
        "\n",
        "WORKSPACE = \"/content/llms/workspace\"\n",
        "DATASETS = \"/content/llms/datasets\""
      ],
      "metadata": {
        "id": "bfLWu0Tx_B1k"
      },
      "execution_count": null,
      "outputs": []
    },
    {
      "cell_type": "markdown",
      "source": [
        "## How can we evaluate summarization?\n",
        "\n",
        "Suppose you are developing a smartphone news app and need to display automatically generated summaries of breaking news articles.  How can you evaluate whether or not the summaries you are generating are good?\n",
        "\n",
        "![](https://drive.google.com/uc?export=view&id=1V6cMD1LgivCb850JDhva1DO9EWVH8rJ7)"
      ],
      "metadata": {
        "id": "DEBEFzEh-fHu"
      }
    },
    {
      "cell_type": "markdown",
      "source": [
        "## Dataset\n",
        "\n",
        "We will use a subset of the `cnn_dailymail` dataset from See et al., 2017, downloadable from the [Hugging Face `datasets` hub](https://huggingface.co/datasets/cnn_dailymail).\n",
        "\n",
        "This dataset provides news article paired with summaries (in the \"highlights\" column).  Let's load the data and take a look at some examples.\n"
      ],
      "metadata": {
        "id": "VRSY6d5h-rR-"
      }
    },
    {
      "cell_type": "code",
      "source": [
        "import torch\n",
        "from datasets import load_dataset\n",
        "\n",
        "full_dataset = load_dataset(\n",
        "    \"cnn_dailymail\", version=\"3.0.0\", cache_dir=DATASETS\n",
        ")  # Note: We specify cache_dir to use pre-cached data.\n",
        "\n",
        "# Use a small sample of the data during this lab, for speed.\n",
        "sample_size = 100\n",
        "sample = (\n",
        "    full_dataset[\"train\"]\n",
        "    .filter(lambda r: \"CNN\" in r[\"article\"][:25])\n",
        "    .shuffle(seed=42)\n",
        "    .select(range(sample_size))\n",
        ")\n",
        "sample"
      ],
      "metadata": {
        "id": "5fqxrSf8-1-A"
      },
      "execution_count": null,
      "outputs": []
    },
    {
      "cell_type": "code",
      "source": [
        "display(sample.to_pandas())"
      ],
      "metadata": {
        "id": "wN2FTyLN-49X"
      },
      "execution_count": null,
      "outputs": []
    },
    {
      "cell_type": "code",
      "source": [
        "example_article = sample[\"article\"][0]\n",
        "example_summary = sample[\"highlights\"][0]\n",
        "print(f\"Article:\\n{example_article}\\n\")\n",
        "print(f\"Summary:\\n{example_summary}\")"
      ],
      "metadata": {
        "id": "cU7Qsnfm_rUU"
      },
      "execution_count": null,
      "outputs": []
    },
    {
      "cell_type": "markdown",
      "source": [
        "## Summarization"
      ],
      "metadata": {
        "id": "KYM5fbP7oPeR"
      }
    },
    {
      "cell_type": "code",
      "source": [
        "import pandas as pd\n",
        "import torch\n",
        "import gc\n",
        "from transformers import AutoTokenizer, T5ForConditionalGeneration"
      ],
      "metadata": {
        "id": "a0Kr0_PGoglZ"
      },
      "execution_count": null,
      "outputs": []
    },
    {
      "cell_type": "code",
      "source": [
        "def batch_generator(data: list, batch_size: int):\n",
        "    \"\"\"\n",
        "    Creates batches of size `batch_size` from a list.\n",
        "    \"\"\"\n",
        "    s = 0\n",
        "    e = s + batch_size\n",
        "    while s < len(data):\n",
        "        yield data[s:e]\n",
        "        s = e\n",
        "        e = min(s + batch_size, len(data))\n",
        "\n",
        "\n",
        "def summarize_with_t5(\n",
        "    model_checkpoint: str, articles: list, batch_size: int = 8\n",
        ") -> list:\n",
        "    \"\"\"\n",
        "    Compute summaries using a T5 model.\n",
        "    This is similar to a `pipeline` for a T5 model but does tokenization manually.\n",
        "\n",
        "    :param model_checkpoint: Name for a model checkpoint in Hugging Face, such as \"t5-small\" or \"t5-base\"\n",
        "    :param articles: List of strings, where each string represents one article.\n",
        "    :return: List of strings, where each string represents one article's generated summary\n",
        "    \"\"\"\n",
        "    if torch.cuda.is_available():\n",
        "        device = \"cuda:0\"\n",
        "    else:\n",
        "        device = \"cpu\"\n",
        "\n",
        "    model = T5ForConditionalGeneration.from_pretrained(\n",
        "        model_checkpoint, cache_dir=DATASETS\n",
        "    ).to(device)\n",
        "    tokenizer = AutoTokenizer.from_pretrained(\n",
        "        model_checkpoint, model_max_length=1024, cache_dir=DATASETS\n",
        "    )\n",
        "\n",
        "    def perform_inference(batch: list) -> list:\n",
        "        inputs = tokenizer(\n",
        "            batch, max_length=1024, return_tensors=\"pt\", padding=True, truncation=True\n",
        "        )\n",
        "\n",
        "        summary_ids = model.generate(\n",
        "            inputs.input_ids.to(device),\n",
        "            attention_mask=inputs.attention_mask.to(device),\n",
        "            num_beams=2,\n",
        "            min_length=0,\n",
        "            max_length=40,\n",
        "        )\n",
        "        return tokenizer.batch_decode(summary_ids, skip_special_tokens=True)\n",
        "\n",
        "    res = []\n",
        "\n",
        "    summary_articles = list(map(lambda article: \"summarize: \" + article, articles))\n",
        "    for batch in batch_generator(summary_articles, batch_size=batch_size):\n",
        "        res += perform_inference(batch)\n",
        "\n",
        "        torch.cuda.empty_cache()\n",
        "        gc.collect()\n",
        "\n",
        "    # clean up\n",
        "    del tokenizer\n",
        "    del model\n",
        "    torch.cuda.empty_cache()\n",
        "    gc.collect()\n",
        "    return res"
      ],
      "metadata": {
        "id": "tO7jHGGT_5Pi"
      },
      "execution_count": null,
      "outputs": []
    },
    {
      "cell_type": "code",
      "source": [
        "t5_small_summaries = summarize_with_t5(\"t5-small\", sample[\"article\"])"
      ],
      "metadata": {
        "id": "rAf_Z7GJAF4f"
      },
      "execution_count": null,
      "outputs": []
    },
    {
      "cell_type": "code",
      "source": [
        "reference_summaries = sample[\"highlights\"]"
      ],
      "metadata": {
        "id": "1wgUAucMAIAy"
      },
      "execution_count": null,
      "outputs": []
    },
    {
      "cell_type": "code",
      "source": [
        "display(\n",
        "    pd.DataFrame.from_dict(\n",
        "        {\n",
        "            \"generated\": t5_small_summaries,\n",
        "            \"reference\": reference_summaries,\n",
        "        }\n",
        "    )\n",
        ")\n"
      ],
      "metadata": {
        "id": "JGQqpUrQAKhc"
      },
      "execution_count": null,
      "outputs": []
    },
    {
      "cell_type": "markdown",
      "source": [
        "You may see some warning messages in the output above.  While pipelines are handy, they provide less control over the tokenizer and model; we will dive deeper later.\n",
        "\n",
        "But first, let's see how our summarization pipeline does!  We'll compute 0/1 accuracy, a classic ML evaluation metric.\n"
      ],
      "metadata": {
        "id": "294R6bveu3SV"
      }
    },
    {
      "cell_type": "code",
      "source": [
        "accuracy = 0.0\n",
        "for i in range(len(reference_summaries)):\n",
        "    generated_summary = t5_small_summaries[i]\n",
        "    if generated_summary == reference_summaries[i]:\n",
        "        accuracy += 1.0\n",
        "accuracy = accuracy / len(reference_summaries)\n",
        "\n",
        "print(f\"Achieved accuracy {accuracy}!\")\n"
      ],
      "metadata": {
        "id": "HrshD6HTu574"
      },
      "execution_count": null,
      "outputs": []
    },
    {
      "cell_type": "markdown",
      "source": [
        "Accuracy zero?!?  We can see that the (very generic) metric of 0/1 accuracy is not useful for summarization.  Thinking about this more, small variations in wording may not matter much, and many different summaries may be equally valid.  So how can we evaluate summarization?\n"
      ],
      "metadata": {
        "id": "-YSwfmazAXKK"
      }
    },
    {
      "cell_type": "markdown",
      "source": [
        "## ROUGE\n",
        "\n",
        "Now that we can generate summaries---and we know 0/1 accuracy is useless here---let's look at how we can compute a meaningful metric designed to evaluate summarization: ROUGE.\n",
        "\n",
        "Recall-Oriented Understudy for Gisting Evaluation (ROUGE) is a set of evaluation metrics designed for comparing summaries from Lin et al., 2004.  See [Wikipedia](https://en.wikipedia.org/wiki/ROUGE_&#40;metric&#41;) for more info.  Here, we use the Hugging Face Evaluator wrapper to call into the `rouge_score` package.  This package provides 4 scores:\n",
        "\n",
        "- `rouge1`: ROUGE computed over unigrams (single words or tokens)\n",
        "- `rouge2`: ROUGE computed over bigrams (pairs of consecutive words or tokens)\n",
        "- `rougeL`: ROUGE based on the longest common subsequence shared by the summaries being compared\n",
        "- `rougeLsum`: like `rougeL`, but at \"summary level,\" i.e., ignoring sentence breaks (newlines)\n"
      ],
      "metadata": {
        "id": "N8MUjb7ZAnoK"
      }
    },
    {
      "cell_type": "code",
      "source": [
        "import evaluate\n",
        "import nltk\n",
        "from nltk.tokenize import sent_tokenize\n",
        "\n",
        "nltk.download(\"punkt\")\n",
        "\n",
        "rouge_score = evaluate.load(\"rouge\")"
      ],
      "metadata": {
        "id": "_ujKq-1nAbDj"
      },
      "execution_count": null,
      "outputs": []
    },
    {
      "cell_type": "markdown",
      "source": [
        "You can call `rouge_score` evaluator directly, but we provide a convenience function below to handle the expected input format.\n"
      ],
      "metadata": {
        "id": "ztneW42xZOiB"
      }
    },
    {
      "cell_type": "code",
      "source": [
        "def compute_rouge_score(generated: list, reference: list) -> dict:\n",
        "    \"\"\"\n",
        "    Compute ROUGE scores on a batch of articles.\n",
        "\n",
        "    This is a convenience function wrapping Hugging Face `rouge_score`,\n",
        "    which expects sentences to be separated by newlines.\n",
        "\n",
        "    :param generated: Summaries (list of strings) produced by the model\n",
        "    :param reference: Ground-truth summaries (list of strings) for comparison\n",
        "    \"\"\"\n",
        "    generated_with_newlines = [\"\\n\".join(sent_tokenize(s.strip())) for s in generated]\n",
        "    reference_with_newlines = [\"\\n\".join(sent_tokenize(s.strip())) for s in reference]\n",
        "    return rouge_score.compute(\n",
        "        predictions=generated_with_newlines,\n",
        "        references=reference_with_newlines,\n",
        "        use_stemmer=True,\n",
        "    )"
      ],
      "metadata": {
        "id": "HAh8b1ansGLc"
      },
      "execution_count": null,
      "outputs": []
    },
    {
      "cell_type": "code",
      "source": [
        "# ROUGE scores for our batch of articles\n",
        "compute_rouge_score(t5_small_summaries, reference_summaries)"
      ],
      "metadata": {
        "id": "HEpO3YUEA4w0"
      },
      "execution_count": null,
      "outputs": []
    },
    {
      "cell_type": "markdown",
      "source": [
        "## Understanding ROUGE scores\n"
      ],
      "metadata": {
        "id": "27mLo0o-sPEw"
      }
    },
    {
      "cell_type": "code",
      "source": [
        "# Sanity check: What if our predictions match the references exactly?\n",
        "compute_rouge_score(reference_summaries, reference_summaries)"
      ],
      "metadata": {
        "id": "d4247_MDsOD1"
      },
      "execution_count": null,
      "outputs": []
    },
    {
      "cell_type": "code",
      "source": [
        "# And what if we fail to predict anything?\n",
        "compute_rouge_score(\n",
        "    generated=[\"\" for _ in range(len(reference_summaries))],\n",
        "    reference=reference_summaries,\n",
        ")"
      ],
      "metadata": {
        "id": "CMz7sFGzBBKI"
      },
      "execution_count": null,
      "outputs": []
    },
    {
      "cell_type": "markdown",
      "source": [
        "Stemming predictions and references can help to ignore minor differences.\n",
        "\n",
        "We will use `rouge_score.compute()` directly for these hand-constructed examples."
      ],
      "metadata": {
        "id": "YsBsNO6PsZ4_"
      }
    },
    {
      "cell_type": "code",
      "source": [
        "rouge_score.compute(\n",
        "    predictions=[\"Large language models beat world record\"],\n",
        "    references=[\"Large language models beating world records\"],\n",
        "    use_stemmer=False,\n",
        ")"
      ],
      "metadata": {
        "id": "nbMlFyXXZTS8"
      },
      "execution_count": null,
      "outputs": []
    },
    {
      "cell_type": "code",
      "source": [
        "rouge_score.compute(\n",
        "    predictions=[\"Large language models beat world record\"],\n",
        "    references=[\"Large language models beating world records\"],\n",
        "    use_stemmer=True,\n",
        ")"
      ],
      "metadata": {
        "id": "CWAfbhT2BJ-o"
      },
      "execution_count": null,
      "outputs": []
    },
    {
      "cell_type": "markdown",
      "source": [
        "Let's look at how the ROUGE score behaves in various situations."
      ],
      "metadata": {
        "id": "iYQ7YcfTZAJS"
      }
    },
    {
      "cell_type": "code",
      "source": [
        "# What if we predict exactly 1 word correctly?\n",
        "rouge_score.compute(\n",
        "    predictions=[\"Large language models beat world record\"],\n",
        "    references=[\"Large\"],\n",
        "    use_stemmer=True,\n",
        ")"
      ],
      "metadata": {
        "id": "LN1o4KdUs1O3"
      },
      "execution_count": null,
      "outputs": []
    },
    {
      "cell_type": "code",
      "source": [
        "# The ROUGE score is symmetric with respect to predictions and references.\n",
        "rouge_score.compute(\n",
        "    predictions=[\"Large\"],\n",
        "    references=[\"Large language models beat world record\"],\n",
        "    use_stemmer=True,\n",
        ")"
      ],
      "metadata": {
        "id": "29K-YYxJBUuS"
      },
      "execution_count": null,
      "outputs": []
    },
    {
      "cell_type": "code",
      "source": [
        "# What about 2 words?  Note how 'rouge1' and 'rouge2' compare with the case when we predict exactly 1 word correctly.\n",
        "rouge_score.compute(\n",
        "    predictions=[\"Large language\"],\n",
        "    references=[\"Large language models beat world record\"],\n",
        "    use_stemmer=True,\n",
        ")"
      ],
      "metadata": {
        "id": "td-s4u6lBXhO"
      },
      "execution_count": null,
      "outputs": []
    },
    {
      "cell_type": "code",
      "source": [
        "# Note how rouge1 differs from the rougeN (N>1) scores when we predict word subsequences correctly.\n",
        "rouge_score.compute(\n",
        "    predictions=[\"Models beat large language world record\"],\n",
        "    references=[\"Large language models beat world record\"],\n",
        "    use_stemmer=True,\n",
        ")"
      ],
      "metadata": {
        "id": "cregcYVOBZ77"
      },
      "execution_count": null,
      "outputs": []
    },
    {
      "cell_type": "markdown",
      "source": [
        "## Compare small and large models\n",
        "\n",
        "We've been working with the `t5-small` model so far.  Let's compare several models with different architectures in terms of their ROUGE scores and some example generated summaries.\n"
      ],
      "metadata": {
        "id": "BaATE4CytyMT"
      }
    },
    {
      "cell_type": "code",
      "source": [
        "def compute_rouge_per_row(\n",
        "    generated_summaries: list, reference_summaries: list\n",
        ") -> pd.DataFrame:\n",
        "    \"\"\"\n",
        "    Generates a dataframe to compare rogue score metrics.\n",
        "    \"\"\"\n",
        "    generated_with_newlines = [\n",
        "        \"\\n\".join(sent_tokenize(s.strip())) for s in generated_summaries\n",
        "    ]\n",
        "    reference_with_newlines = [\n",
        "        \"\\n\".join(sent_tokenize(s.strip())) for s in reference_summaries\n",
        "    ]\n",
        "    scores = rouge_score.compute(\n",
        "        predictions=generated_with_newlines,\n",
        "        references=reference_with_newlines,\n",
        "        use_stemmer=True,\n",
        "        use_aggregator=False,\n",
        "    )\n",
        "    scores[\"generated\"] = generated_summaries\n",
        "    scores[\"reference\"] = reference_summaries\n",
        "    return pd.DataFrame.from_dict(scores)"
      ],
      "metadata": {
        "id": "fypEljLLtrDS"
      },
      "execution_count": null,
      "outputs": []
    },
    {
      "cell_type": "markdown",
      "source": [
        "### T5-small\n",
        "\n",
        "The [T5](https://huggingface.co/docs/transformers/model_doc/t5) [[paper]](https://arxiv.org/pdf/1910.10683.pdf) family of models are text-to-text transformers that have been trained on a multi-task mixture of unsupervised and supervised tasks. They are well suited for task such as summarization, translation, text classification, question answering, and more.\n",
        "\n",
        "The t5-small version of the T5 models has 60 million parameters.\n"
      ],
      "metadata": {
        "id": "BQqImLafBnGo"
      }
    },
    {
      "cell_type": "code",
      "source": [
        "# We computed t5_small_summaries above already.\n",
        "compute_rouge_score(t5_small_summaries, reference_summaries)"
      ],
      "metadata": {
        "id": "dvoOLRZQY4hw"
      },
      "execution_count": null,
      "outputs": []
    },
    {
      "cell_type": "code",
      "source": [
        "t5_small_results = compute_rouge_per_row(\n",
        "    generated_summaries=t5_small_summaries, reference_summaries=reference_summaries\n",
        ")\n",
        "display(t5_small_results)"
      ],
      "metadata": {
        "id": "e6rhIUOjByy4"
      },
      "execution_count": null,
      "outputs": []
    },
    {
      "cell_type": "markdown",
      "source": [
        "### T5-base\n",
        "\n",
        "The [T5-base](https://huggingface.co/t5-base) model has 220 million parameters.\n"
      ],
      "metadata": {
        "id": "RBFbSINwbXvG"
      }
    },
    {
      "cell_type": "code",
      "source": [
        "t5_base_summaries = summarize_with_t5(\n",
        "    model_checkpoint=\"t5-base\", articles=sample[\"article\"]\n",
        ")\n",
        "compute_rouge_score(t5_base_summaries, reference_summaries)"
      ],
      "metadata": {
        "id": "Y8jWhQQubgTi"
      },
      "execution_count": null,
      "outputs": []
    },
    {
      "cell_type": "code",
      "source": [
        "t5_base_results = compute_rouge_per_row(\n",
        "    generated_summaries=t5_base_summaries, reference_summaries=reference_summaries\n",
        ")\n",
        "display(t5_base_results)"
      ],
      "metadata": {
        "id": "OX1lhaiYB_nF"
      },
      "execution_count": null,
      "outputs": []
    },
    {
      "cell_type": "markdown",
      "source": [
        "### GPT-2\n",
        "\n",
        "The [GPT-2](https://huggingface.co/gpt2) model is a generative text model that was trained in a self-supervised fashion. Its strengths are in using a 'completing the sentence' for a given prompt.  It has 124 million parameters.\n"
      ],
      "metadata": {
        "id": "kHpQuZN3ahWm"
      }
    },
    {
      "cell_type": "code",
      "source": [
        "from transformers import GPT2LMHeadModel, GPT2Tokenizer"
      ],
      "metadata": {
        "id": "F3VtfFRqZJJ0"
      },
      "execution_count": null,
      "outputs": []
    },
    {
      "cell_type": "code",
      "source": [
        "def summarize_with_gpt2(\n",
        "    model_checkpoint: str, articles: list, batch_size: int = 8\n",
        ") -> list:\n",
        "    \"\"\"\n",
        "    Convenience function for summarization with GPT2 to handle these complications:\n",
        "    - Append \"TL;DR\" to the end of the input to get GPT2 to generate a summary.\n",
        "    https://huggingface.co/course/chapter7/5?fw=pt\n",
        "    - Truncate input to handle long articles.\n",
        "    - GPT2 uses a max token length of 1024.  We use a shorter 512 limit here.\n",
        "\n",
        "    :param model_checkpoint: reference to checkpointed model\n",
        "    :param articles: list of strings\n",
        "    :return: generated summaries, with the input and \"TL;DR\" removed\n",
        "    \"\"\"\n",
        "    if torch.cuda.is_available():\n",
        "        device = \"cuda:0\"\n",
        "    else:\n",
        "        device = \"cpu\"\n",
        "\n",
        "    tokenizer = GPT2Tokenizer.from_pretrained(\n",
        "        model_checkpoint, padding_side=\"left\", cache_dir=DATASETS\n",
        "    )\n",
        "    tokenizer.add_special_tokens({\"pad_token\": tokenizer.eos_token})\n",
        "    model = GPT2LMHeadModel.from_pretrained(\n",
        "        model_checkpoint,\n",
        "        pad_token_id=tokenizer.eos_token_id,\n",
        "        cache_dir=DATASETS,\n",
        "    ).to(device)\n",
        "\n",
        "    def perform_inference(batch: list) -> list:\n",
        "        tmp_inputs = tokenizer(\n",
        "            batch, max_length=500, return_tensors=\"pt\", padding=True, truncation=True\n",
        "        )\n",
        "        tmp_inputs_decoded = tokenizer.batch_decode(\n",
        "            tmp_inputs.input_ids, skip_special_tokens=True\n",
        "        )\n",
        "        inputs = tokenizer(\n",
        "            [article + \" TL;DR:\" for article in tmp_inputs_decoded],\n",
        "            max_length=512,\n",
        "            return_tensors=\"pt\",\n",
        "            padding=True,\n",
        "            truncation=True,\n",
        "        )\n",
        "        summary_ids = model.generate(\n",
        "            inputs.input_ids.to(device),\n",
        "            attention_mask=inputs.attention_mask.to(device),\n",
        "            num_beams=2,\n",
        "            min_length=0,\n",
        "            max_length=512 + 32,\n",
        "        )\n",
        "        return tokenizer.batch_decode(summary_ids, skip_special_tokens=True)\n",
        "\n",
        "    decoded_summaries = []\n",
        "    for batch in batch_generator(articles, batch_size=batch_size):\n",
        "        decoded_summaries += perform_inference(batch)\n",
        "\n",
        "        # batch clean up\n",
        "        torch.cuda.empty_cache()\n",
        "        gc.collect()\n",
        "\n",
        "    # post-process decoded summaries\n",
        "    summaries = [\n",
        "        summary[summary.find(\"TL;DR:\") + len(\"TL;DR: \") :]\n",
        "        for summary in decoded_summaries\n",
        "    ]\n",
        "\n",
        "    # cleanup\n",
        "    del tokenizer\n",
        "    del model\n",
        "    torch.cuda.empty_cache()\n",
        "    gc.collect()\n",
        "\n",
        "    return summaries"
      ],
      "metadata": {
        "id": "bbBqvVdNxeQe"
      },
      "execution_count": null,
      "outputs": []
    },
    {
      "cell_type": "code",
      "source": [
        "gpt2_summaries = summarize_with_gpt2(\n",
        "    model_checkpoint=\"gpt2\", articles=sample[\"article\"]\n",
        ")\n",
        "compute_rouge_score(gpt2_summaries, reference_summaries)"
      ],
      "metadata": {
        "id": "9lm1N9L6CUmp"
      },
      "execution_count": null,
      "outputs": []
    },
    {
      "cell_type": "code",
      "source": [
        "gpt2_results = compute_rouge_per_row(\n",
        "    generated_summaries=gpt2_summaries, reference_summaries=reference_summaries\n",
        ")\n",
        "display(gpt2_results)"
      ],
      "metadata": {
        "id": "fyZYPmO1CXj6"
      },
      "execution_count": null,
      "outputs": []
    },
    {
      "cell_type": "markdown",
      "source": [
        "### Comparing all models\n",
        "\n",
        "We use a couple of helper functions to compare the above models, first by their evaluation metrics (quantitative) and second by their generated summaries (qualitative).\n",
        "\n"
      ],
      "metadata": {
        "id": "vAT8lqq6g2nI"
      }
    },
    {
      "cell_type": "code",
      "source": [
        "def compare_models(models_results: dict) -> pd.DataFrame:\n",
        "    \"\"\"\n",
        "    :param models_results: dict of \"model name\" string mapped to pd.DataFrame of results computed by `compute_rouge_per_row`\n",
        "    :return: pd.DataFrame with 1 row per model, with columns: model, rouge1, rouge2, rougeL, rougeLsum\n",
        "    where metrics are averages over input results for each model\n",
        "    \"\"\"\n",
        "    agg_results = []\n",
        "    for r in models_results:\n",
        "        model_results = models_results[r].drop(\n",
        "            labels=[\"generated\", \"reference\"], axis=1\n",
        "        )\n",
        "        agg_metrics = [r]\n",
        "        agg_metrics[1:] = model_results.mean(axis=0)\n",
        "        agg_results.append(agg_metrics)\n",
        "    return pd.DataFrame(\n",
        "        agg_results, columns=[\"model\", \"rouge1\", \"rouge2\", \"rougeL\", \"rougeLsum\"]\n",
        "    )"
      ],
      "metadata": {
        "id": "5XctnUHCCibb"
      },
      "execution_count": null,
      "outputs": []
    },
    {
      "cell_type": "code",
      "source": [
        "display(\n",
        "    compare_models(\n",
        "        {\n",
        "            \"t5-small\": t5_small_results,\n",
        "            \"t5-base\": t5_base_results,\n",
        "            \"gpt2\": gpt2_results,\n",
        "        }\n",
        "    )\n",
        ")"
      ],
      "metadata": {
        "id": "NkzC2_K8ClH7"
      },
      "execution_count": null,
      "outputs": []
    },
    {
      "cell_type": "code",
      "source": [
        "def compare_models_summaries(models_summaries: dict) -> pd.DataFrame:\n",
        "    \"\"\"\n",
        "    Aggregates results from `models_summaries` and returns a dataframe.\n",
        "    \"\"\"\n",
        "    comparison_df = None\n",
        "    for model_name in models_summaries:\n",
        "        summaries_df = models_summaries[model_name]\n",
        "        if comparison_df is None:\n",
        "            comparison_df = summaries_df[[\"generated\"]].rename(\n",
        "                {\"generated\": model_name}, axis=1\n",
        "            )\n",
        "        else:\n",
        "            comparison_df = comparison_df.join(\n",
        "                summaries_df[[\"generated\"]].rename({\"generated\": model_name}, axis=1)\n",
        "            )\n",
        "    return comparison_df"
      ],
      "metadata": {
        "id": "IesPhCg6Cmqm"
      },
      "execution_count": null,
      "outputs": []
    },
    {
      "cell_type": "code",
      "source": [
        "# In the output table below, scroll to the right to see all models.\n",
        "display(\n",
        "    compare_models_summaries(\n",
        "        {\n",
        "            \"t5_small\": t5_small_results,\n",
        "            \"t5_base\": t5_base_results,\n",
        "            \"gpt2\": gpt2_results,\n",
        "        }\n",
        "    )\n",
        ")"
      ],
      "metadata": {
        "id": "IESphBdECqlB"
      },
      "execution_count": null,
      "outputs": []
    },
    {
      "cell_type": "code",
      "source": [],
      "metadata": {
        "id": "Bh9V2o01OlJE"
      },
      "execution_count": null,
      "outputs": []
    }
  ]
}